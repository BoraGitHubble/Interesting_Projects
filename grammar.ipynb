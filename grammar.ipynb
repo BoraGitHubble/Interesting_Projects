{
 "cells": [
  {
   "cell_type": "code",
   "execution_count": 3,
   "id": "663fe5f2",
   "metadata": {},
   "outputs": [
    {
     "name": "stdout",
     "output_type": "stream",
     "text": [
      "Requirement already satisfied: gingerit in c:\\users\\gebruiker\\.conda\\envs\\requirements\\lib\\site-packages (0.9.0)\n",
      "Requirement already satisfied: cloudscraper<2.0.0,>=1.2.66 in c:\\users\\gebruiker\\.conda\\envs\\requirements\\lib\\site-packages (from gingerit) (1.2.71)\n",
      "Requirement already satisfied: pyparsing>=2.4.7 in c:\\users\\gebruiker\\.conda\\envs\\requirements\\lib\\site-packages (from cloudscraper<2.0.0,>=1.2.66->gingerit) (3.0.9)\n",
      "Requirement already satisfied: requests>=2.9.2 in c:\\users\\gebruiker\\.conda\\envs\\requirements\\lib\\site-packages (from cloudscraper<2.0.0,>=1.2.66->gingerit) (2.29.0)\n",
      "Requirement already satisfied: requests-toolbelt>=0.9.1 in c:\\users\\gebruiker\\.conda\\envs\\requirements\\lib\\site-packages (from cloudscraper<2.0.0,>=1.2.66->gingerit) (1.0.0)\n",
      "Requirement already satisfied: charset-normalizer<4,>=2 in c:\\users\\gebruiker\\.conda\\envs\\requirements\\lib\\site-packages (from requests>=2.9.2->cloudscraper<2.0.0,>=1.2.66->gingerit) (2.0.4)\n",
      "Requirement already satisfied: idna<4,>=2.5 in c:\\users\\gebruiker\\.conda\\envs\\requirements\\lib\\site-packages (from requests>=2.9.2->cloudscraper<2.0.0,>=1.2.66->gingerit) (3.4)\n",
      "Requirement already satisfied: urllib3<1.27,>=1.21.1 in c:\\users\\gebruiker\\.conda\\envs\\requirements\\lib\\site-packages (from requests>=2.9.2->cloudscraper<2.0.0,>=1.2.66->gingerit) (1.26.15)\n",
      "Requirement already satisfied: certifi>=2017.4.17 in c:\\users\\gebruiker\\.conda\\envs\\requirements\\lib\\site-packages (from requests>=2.9.2->cloudscraper<2.0.0,>=1.2.66->gingerit) (2023.5.7)\n",
      "Note: you may need to restart the kernel to use updated packages.\n"
     ]
    }
   ],
   "source": [
    "pip install gingerit"
   ]
  },
  {
   "cell_type": "code",
   "execution_count": 4,
   "id": "70ed1887",
   "metadata": {},
   "outputs": [
    {
     "name": "stdout",
     "output_type": "stream",
     "text": [
      "Enter a sentence >>: I will went to amerrrrica to siwm.\n",
      "I will go to America to swim.\n"
     ]
    }
   ],
   "source": [
    "from gingerit.gingerit import GingerIt\n",
    "text = input(\"Enter a sentence >>: \")\n",
    "corrected_text = GingerIt().parse(text)\n",
    "print(corrected_text['result'])"
   ]
  }
 ],
 "metadata": {
  "kernelspec": {
   "display_name": "Python 3 (ipykernel)",
   "language": "python",
   "name": "python3"
  },
  "language_info": {
   "codemirror_mode": {
    "name": "ipython",
    "version": 3
   },
   "file_extension": ".py",
   "mimetype": "text/x-python",
   "name": "python",
   "nbconvert_exporter": "python",
   "pygments_lexer": "ipython3",
   "version": "3.11.3"
  }
 },
 "nbformat": 4,
 "nbformat_minor": 5
}
